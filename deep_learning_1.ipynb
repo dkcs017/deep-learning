{
  "nbformat": 4,
  "nbformat_minor": 0,
  "metadata": {
    "colab": {
      "name": "deep-learning-1.ipynb",
      "provenance": [],
      "private_outputs": true,
      "collapsed_sections": [],
      "authorship_tag": "ABX9TyNSn7PkC/wZCpfq6fl+4xGD",
      "include_colab_link": true
    },
    "kernelspec": {
      "name": "python3",
      "display_name": "Python 3"
    },
    "accelerator": "GPU"
  },
  "cells": [
    {
      "cell_type": "markdown",
      "metadata": {
        "id": "view-in-github",
        "colab_type": "text"
      },
      "source": [
        "<a href=\"https://colab.research.google.com/github/dkcs017/deep-learning/blob/master/deep_learning_1.ipynb\" target=\"_parent\"><img src=\"https://colab.research.google.com/assets/colab-badge.svg\" alt=\"Open In Colab\"/></a>"
      ]
    },
    {
      "cell_type": "code",
      "metadata": {
        "id": "lVv5cz4AJQBN",
        "colab_type": "code",
        "colab": {}
      },
      "source": [
        "# Simplest model to convert celsius to fahrenheit\n",
        "import tensorflow as tf\n",
        "import numpy as np\n",
        "\n",
        "\n",
        "def temperature_np_array(temperatures):\n",
        "    if isinstance(temperatures, list):\n",
        "        return np.array(temperatures, dtype=float)\n",
        "    raise ValueError(\"Only iterator or generator is expected.\")\n",
        "\n",
        "\n",
        "def create_network_layer(num_of_neurons=1, input_dimension=None):\n",
        "    return tf.keras.layers.Dense(\n",
        "        units=num_of_neurons,\n",
        "        input_shape=input_dimension\n",
        "    )\n",
        "\n",
        "\n",
        "def create_model(layers, loss_function='mse', optimizer_range=0.1):\n",
        "    model = tf.keras.Sequential()\n",
        "    for layer in layers:\n",
        "        model.add(layer)\n",
        "    model.compile(\n",
        "        loss=loss_function,\n",
        "        optimizer=tf.keras.optimizers.Adam(optimizer_range)\n",
        "    )\n",
        "    return model\n",
        "\n",
        "\n",
        "# specify celsius & fahrenheit np arrays\n",
        "temp_celsius = temperature_np_array([-40, -10,  0,  8, 15, 22,  38])\n",
        "temp_fahrenheit = temperature_np_array([-40,  14, 32, 46, 59, 72, 100])\n",
        "\n",
        "single_layer_1_neuron_model = create_model(\n",
        "    [create_network_layers(input_dimension=[1])],\n",
        "    loss_function='mean_squared_error',\n",
        "    optimizer_range=0.05\n",
        ")"
      ],
      "execution_count": 0,
      "outputs": []
    },
    {
      "cell_type": "code",
      "metadata": {
        "id": "SVvQrchBb36n",
        "colab_type": "code",
        "colab": {}
      },
      "source": [
        "# Train the model to convert celsius to fahrenheit\n",
        "celsius_to_fahrenheit = single_layer_1_neuron_model.fit(\n",
        "    temp_celsius,\n",
        "    temp_fahrenheit,\n",
        "    epochs=5000,\n",
        "    verbosity=false,\n",
        ")"
      ],
      "execution_count": 0,
      "outputs": []
    },
    {
      "cell_type": "code",
      "metadata": {
        "id": "jmXXJEDKb6a2",
        "colab_type": "code",
        "colab": {}
      },
      "source": [
        "# Train the model to convert fahrenheit to celsius\n",
        "fahrenheit_to_celsius = single_layer_1_neuron_model.fit(\n",
        "    temp_fahrenheit,\n",
        "    temp_celsius,\n",
        "    epochs=5000,\n",
        "    verbosity=false,\n",
        ")"
      ],
      "execution_count": 0,
      "outputs": []
    }
  ]
}